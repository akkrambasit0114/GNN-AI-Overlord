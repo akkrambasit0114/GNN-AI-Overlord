{
 "cells": [
  {
   "cell_type": "markdown",
   "metadata": {},
   "source": [
    "# Introduction\n",
    "In this notebook, we will be building a Graph Convolutional Network on the `ogbn-arxiv` citation network and trying to match performance to the [OGB Leaderboard for Node Property Prediction](https://ogb.stanford.edu/docs/leader_nodeprop/#ogbn-arxiv).  Once we can faithfully re-create this, we will move on to implementing improvements and tweaks found in the [Bag of Tricks for Node Classification with Graph Neural Networks](https://arxiv.org/abs/2103.13355) paper.\n",
    "\n",
    "# What you need to do\n",
    "## Basics \n",
    "With few exceptions, you only need to implement the PyTorch/DGL model code and everything else is written to train and evaluate.  Sections you need to write code for will be marked with a \"TODO\" comment.  As a first pass, do not modify any of the code *except where indicated* so that troubleshooting will be easier if you run into problems.\n",
    "\n",
    "## Improvements\n",
    "Once you have a correct implementation and can match leaderboard performance, we can move on to experimentation.  In this section, we will implement a few ideas from the [\"Bag of Tricks\"](https://arxiv.org/abs/2103.13355) paper, which should give improvements above baseline GCN and move you several positions up the leaderboard.  \n",
    "\n",
    "## Statistics\n",
    "At the end of each section, there is code for repeating your experiment 10 times to collect statistics on performance since any single run might be (un)lucky and give unrepresentative performance.  This also allows us to make apples-to-apples comparisons to the leaderboard.  However, this process takes significant time.  Feel free to skip these cells until after you've finished implementing all sections and then you can collect statistics e.g., overnight if you wish.\n",
    "\n",
    "## Extra Credit \n",
    "A great way to learn is to 1) read other peoples' code and 2) tinker.  If you want to maximize your learning, the Extra Credit section will provide a few directions for further exploration.  As part of this, it's recommended you find another submission on the OGB Leaderboard and try to re-create its submission.  This will likely involve reading the paper and code, which is great practice.  If you do something interesting and novel, we'll kindly host it in a public repo as an example of your glory (if you wish).\n",
    "\n",
    "***\n",
    "\n",
    "# Boilerplate"
   ]
  },
  {
   "cell_type": "code",
   "execution_count": 1,
   "metadata": {},
   "outputs": [],
   "source": [
    "import sys\n",
    "import os\n",
    "import math\n",
    "from copy import deepcopy\n",
    "from pathlib import Path\n",
    "import numpy as np\n",
    "import pandas as pd\n",
    "from scipy import stats\n",
    "\n",
    "import torch as th\n",
    "import torch.nn as nn\n",
    "from torch import optim\n",
    "import torch.nn.functional as F\n",
    "\n",
    "import matplotlib.pyplot as plt\n",
    "%matplotlib inline"
   ]
  },
  {
   "cell_type": "code",
   "execution_count": 2,
   "metadata": {},
   "outputs": [
    {
     "name": "stdout",
     "output_type": "stream",
     "text": [
      "Torch version: 2.0.0.  CUDA version: None\n"
     ]
    }
   ],
   "source": [
    "cuda_version = th.version.cuda\n",
    "print(f\"Torch version: {th.__version__}.  CUDA version: {cuda_version}\")"
   ]
  },
  {
   "cell_type": "code",
   "execution_count": 3,
   "metadata": {},
   "outputs": [
    {
     "data": {
      "text/plain": [
       "'dgl'"
      ]
     },
     "execution_count": 3,
     "metadata": {},
     "output_type": "execute_result"
    }
   ],
   "source": [
    "# This will attempt to figure out the right DGL package to install, \n",
    "# but please verify that it is correct for your environment!\n",
    "# Follow instructions at https://www.dgl.ai/pages/start.html\n",
    "DGL_PKG = f'dgl-cu{cuda_version.replace(\".\", \"\")}' if cuda_version else 'dgl'\n",
    "DGL_PKG"
   ]
  },
  {
   "cell_type": "code",
   "execution_count": 4,
   "metadata": {
    "scrolled": true
   },
   "outputs": [
    {
     "name": "stdout",
     "output_type": "stream",
     "text": [
      "Defaulting to user installation because normal site-packages is not writeable\n",
      "Looking in links: https://data.dgl.ai/wheels/repo.html\n",
      "Requirement already satisfied: dgl in /Users/insomni_.ak/Library/Python/3.9/lib/python/site-packages (1.1.2.post1)\n",
      "Requirement already satisfied: numpy>=1.14.0 in /Users/insomni_.ak/Library/Python/3.9/lib/python/site-packages (from dgl) (1.23.5)\n",
      "Requirement already satisfied: scipy>=1.1.0 in /Users/insomni_.ak/Library/Python/3.9/lib/python/site-packages (from dgl) (1.10.1)\n",
      "Requirement already satisfied: networkx>=2.1 in /Users/insomni_.ak/Library/Python/3.9/lib/python/site-packages (from dgl) (3.1)\n",
      "Requirement already satisfied: requests>=2.19.0 in /Users/insomni_.ak/Library/Python/3.9/lib/python/site-packages (from dgl) (2.28.2)\n",
      "Requirement already satisfied: tqdm in /Users/insomni_.ak/Library/Python/3.9/lib/python/site-packages (from dgl) (4.65.0)\n",
      "Requirement already satisfied: psutil>=5.8.0 in /Users/insomni_.ak/Library/Python/3.9/lib/python/site-packages (from dgl) (5.9.4)\n",
      "Requirement already satisfied: charset-normalizer<4,>=2 in /Users/insomni_.ak/Library/Python/3.9/lib/python/site-packages (from requests>=2.19.0->dgl) (3.1.0)\n",
      "Requirement already satisfied: idna<4,>=2.5 in /Users/insomni_.ak/Library/Python/3.9/lib/python/site-packages (from requests>=2.19.0->dgl) (3.4)\n",
      "Requirement already satisfied: urllib3<1.27,>=1.21.1 in /Users/insomni_.ak/Library/Python/3.9/lib/python/site-packages (from requests>=2.19.0->dgl) (1.26.15)\n",
      "Requirement already satisfied: certifi>=2017.4.17 in /Users/insomni_.ak/Library/Python/3.9/lib/python/site-packages (from requests>=2.19.0->dgl) (2022.12.7)\n"
     ]
    }
   ],
   "source": [
    "# Verify command with DGL documentation, and then install DGL\n",
    "!{sys.executable} -m pip install {DGL_PKG} -f https://data.dgl.ai/wheels/repo.html"
   ]
  },
  {
   "cell_type": "code",
   "execution_count": 5,
   "metadata": {
    "scrolled": true
   },
   "outputs": [
    {
     "name": "stdout",
     "output_type": "stream",
     "text": [
      "Defaulting to user installation because normal site-packages is not writeable\n",
      "Requirement already satisfied: ogb in /Users/insomni_.ak/Library/Python/3.9/lib/python/site-packages (1.3.6)\n",
      "Requirement already satisfied: torch>=1.6.0 in /Users/insomni_.ak/Library/Python/3.9/lib/python/site-packages (from ogb) (2.0.0)\n",
      "Requirement already satisfied: numpy>=1.16.0 in /Users/insomni_.ak/Library/Python/3.9/lib/python/site-packages (from ogb) (1.23.5)\n",
      "Requirement already satisfied: tqdm>=4.29.0 in /Users/insomni_.ak/Library/Python/3.9/lib/python/site-packages (from ogb) (4.65.0)\n",
      "Requirement already satisfied: scikit-learn>=0.20.0 in /Users/insomni_.ak/Library/Python/3.9/lib/python/site-packages (from ogb) (1.2.2)\n",
      "Requirement already satisfied: pandas>=0.24.0 in /Users/insomni_.ak/Library/Python/3.9/lib/python/site-packages (from ogb) (1.5.3)\n",
      "Requirement already satisfied: six>=1.12.0 in /Library/Developer/CommandLineTools/Library/Frameworks/Python3.framework/Versions/3.9/lib/python3.9/site-packages (from ogb) (1.15.0)\n",
      "Requirement already satisfied: urllib3>=1.24.0 in /Users/insomni_.ak/Library/Python/3.9/lib/python/site-packages (from ogb) (1.26.15)\n",
      "Requirement already satisfied: outdated>=0.2.0 in /Users/insomni_.ak/Library/Python/3.9/lib/python/site-packages (from ogb) (0.2.2)\n",
      "Requirement already satisfied: setuptools>=44 in /Users/insomni_.ak/Library/Python/3.9/lib/python/site-packages (from outdated>=0.2.0->ogb) (67.6.1)\n",
      "Requirement already satisfied: littleutils in /Users/insomni_.ak/Library/Python/3.9/lib/python/site-packages (from outdated>=0.2.0->ogb) (0.2.2)\n",
      "Requirement already satisfied: requests in /Users/insomni_.ak/Library/Python/3.9/lib/python/site-packages (from outdated>=0.2.0->ogb) (2.28.2)\n",
      "Requirement already satisfied: python-dateutil>=2.8.1 in /Users/insomni_.ak/Library/Python/3.9/lib/python/site-packages (from pandas>=0.24.0->ogb) (2.8.2)\n",
      "Requirement already satisfied: pytz>=2020.1 in /Users/insomni_.ak/Library/Python/3.9/lib/python/site-packages (from pandas>=0.24.0->ogb) (2023.3)\n",
      "Requirement already satisfied: scipy>=1.3.2 in /Users/insomni_.ak/Library/Python/3.9/lib/python/site-packages (from scikit-learn>=0.20.0->ogb) (1.10.1)\n",
      "Requirement already satisfied: joblib>=1.1.1 in /Users/insomni_.ak/Library/Python/3.9/lib/python/site-packages (from scikit-learn>=0.20.0->ogb) (1.2.0)\n",
      "Requirement already satisfied: threadpoolctl>=2.0.0 in /Users/insomni_.ak/Library/Python/3.9/lib/python/site-packages (from scikit-learn>=0.20.0->ogb) (3.1.0)\n",
      "Requirement already satisfied: filelock in /Users/insomni_.ak/Library/Python/3.9/lib/python/site-packages (from torch>=1.6.0->ogb) (3.11.0)\n",
      "Requirement already satisfied: typing-extensions in /Users/insomni_.ak/Library/Python/3.9/lib/python/site-packages (from torch>=1.6.0->ogb) (4.5.0)\n",
      "Requirement already satisfied: sympy in /Users/insomni_.ak/Library/Python/3.9/lib/python/site-packages (from torch>=1.6.0->ogb) (1.11.1)\n",
      "Requirement already satisfied: networkx in /Users/insomni_.ak/Library/Python/3.9/lib/python/site-packages (from torch>=1.6.0->ogb) (3.1)\n",
      "Requirement already satisfied: jinja2 in /Users/insomni_.ak/Library/Python/3.9/lib/python/site-packages (from torch>=1.6.0->ogb) (3.1.2)\n",
      "Requirement already satisfied: MarkupSafe>=2.0 in /Users/insomni_.ak/Library/Python/3.9/lib/python/site-packages (from jinja2->torch>=1.6.0->ogb) (2.1.2)\n",
      "Requirement already satisfied: charset-normalizer<4,>=2 in /Users/insomni_.ak/Library/Python/3.9/lib/python/site-packages (from requests->outdated>=0.2.0->ogb) (3.1.0)\n",
      "Requirement already satisfied: idna<4,>=2.5 in /Users/insomni_.ak/Library/Python/3.9/lib/python/site-packages (from requests->outdated>=0.2.0->ogb) (3.4)\n",
      "Requirement already satisfied: certifi>=2017.4.17 in /Users/insomni_.ak/Library/Python/3.9/lib/python/site-packages (from requests->outdated>=0.2.0->ogb) (2022.12.7)\n",
      "Requirement already satisfied: mpmath>=0.19 in /Users/insomni_.ak/Library/Python/3.9/lib/python/site-packages (from sympy->torch>=1.6.0->ogb) (1.3.0)\n"
     ]
    }
   ],
   "source": [
    "!{sys.executable} -m pip install ogb"
   ]
  },
  {
   "cell_type": "code",
   "execution_count": 6,
   "metadata": {},
   "outputs": [],
   "source": [
    "os.environ['DGLBACKEND'] = 'pytorch'\n",
    "import dgl\n",
    "from dgl.nn import GraphConv\n",
    "from ogb.nodeproppred import DglNodePropPredDataset, Evaluator"
   ]
  },
  {
   "cell_type": "code",
   "execution_count": 7,
   "metadata": {},
   "outputs": [
    {
     "data": {
      "text/plain": [
       "device(type='cpu')"
      ]
     },
     "execution_count": 7,
     "metadata": {},
     "output_type": "execute_result"
    }
   ],
   "source": [
    "device = 'cuda' if th.cuda.is_available() else 'cpu'\n",
    "device = th.device(device)\n",
    "device"
   ]
  },
  {
   "cell_type": "markdown",
   "metadata": {},
   "source": [
    "## Helper functions"
   ]
  },
  {
   "cell_type": "code",
   "execution_count": 8,
   "metadata": {},
   "outputs": [],
   "source": [
    "def plot_losses(train_losses, val_losses, log=False):\n",
    "    \"\"\"\n",
    "    Plots train/validation loss curves vs training epoch\n",
    "    \"\"\"\n",
    "    fig, ax = plt.subplots()\n",
    "\n",
    "    ax.plot(train_losses, label='Train')\n",
    "    ax.plot(val_losses, label='Val')\n",
    "    ax.set(xlabel='Epoch', ylabel='CrossEnt')\n",
    "    if log:\n",
    "        ax.set_yscale('log')\n",
    "    ax.legend()\n",
    "    ax.grid()\n",
    "    \n",
    "def train(g, labels, split_idx, model, epochs, evaluator, \n",
    "          device, save_path, loss_fn=F.cross_entropy, lr=0.01, es_criteria=5, verbose=False):\n",
    "    \"\"\"\n",
    "    A standard interface for model training.  Should be no reason to change this unless you \n",
    "    want to add improvements (e.g., learning rate scheduler).\n",
    "    \"\"\"\n",
    "    optimizer = optim.Adam(model.parameters(), lr=lr)\n",
    "    best_val_acc = 0\n",
    "    best_test_acc = 0\n",
    "    train_losses = list()\n",
    "    val_losses = list()\n",
    "\n",
    "    features = g.ndata['feat']\n",
    "    \n",
    "    train_mask = split_idx['train'].to(device)\n",
    "    val_mask = split_idx['valid'].to(device)\n",
    "    test_mask = split_idx['test'].to(device)\n",
    "    es_iters = 0\n",
    "    \n",
    "    for e in range(1, epochs+1):\n",
    "        \n",
    "        train_loss, val_loss = train_step(\n",
    "            model, g, features, labels, train_mask, val_mask, optimizer, loss_fn\n",
    "        )\n",
    "        train_losses.append(train_loss)\n",
    "        val_losses.append(val_loss)\n",
    "\n",
    "        # Compute accuracy on training/validation/test\n",
    "        train_acc, val_acc, test_acc = test(model, g, labels, split_idx, evaluator)\n",
    "\n",
    "        # Save the best validation accuracy and the corresponding test accuracy.\n",
    "        if best_val_acc < val_acc:\n",
    "            best_val_acc = val_acc\n",
    "            best_test_acc = test_acc\n",
    "            th.save(model.state_dict(), save_path)\n",
    "            es_iters = 0\n",
    "        else:\n",
    "            es_iters += 1\n",
    "            \n",
    "\n",
    "        if e % 50 == 0 and verbose:\n",
    "            print('In epoch {}, loss: {:.3f}, val acc: {:.3f} (best {:.3f}), test acc: {:.3f} (best {:.3f})'.format(\n",
    "                e, train_loss, val_acc, best_val_acc, test_acc, best_test_acc))\n",
    "            \n",
    "        if es_iters >= es_criteria:\n",
    "            print(f\"Early stopping at {e} epochs\")\n",
    "            break\n",
    "            \n",
    "    return np.array(train_losses), np.array(val_losses)\n",
    "\n",
    "def train_step(model, g, features, labels, train_mask, val_mask, optimizer, loss_fn):\n",
    "    \"\"\"\n",
    "    A single training step\n",
    "    \"\"\"\n",
    "    model.train()\n",
    "\n",
    "    optimizer.zero_grad()\n",
    "    logits = model(g, features)\n",
    "    loss = loss_fn(logits[train_mask], labels[train_mask])\n",
    "    loss.backward()\n",
    "    optimizer.step()\n",
    "    \n",
    "    with th.no_grad():\n",
    "        val_loss = loss_fn(logits[val_mask], labels[val_mask])\n",
    "\n",
    "    return loss.item(), val_loss.item()\n",
    "\n",
    "@th.no_grad()\n",
    "def test(model_cp, g, labels, split_idx, evaluator, best_path=None):\n",
    "    \"\"\"\n",
    "    Executes the OGB Evaluator to return accuracy for \n",
    "    the train, valid and test sets.  If passed in a model file path, \n",
    "    loads the parameters from that file, otherwise uses the model object\n",
    "    passed in.\n",
    "    \"\"\"\n",
    "    model = deepcopy(model_cp)\n",
    "    \n",
    "    if best_path is not None:\n",
    "        model.load_state_dict(th.load(best_path))\n",
    "        \n",
    "    model.eval()\n",
    "    \n",
    "    features = g.ndata['feat']\n",
    "    logits = model(g, features)\n",
    "    y_pred = logits.argmax(1, keepdim=True)\n",
    "\n",
    "    train_acc = evaluator.eval({\n",
    "        'y_true': labels[split_idx['train']].reshape((-1,1)),\n",
    "        'y_pred': y_pred[split_idx['train']],\n",
    "    })['acc']\n",
    "    valid_acc = evaluator.eval({\n",
    "        'y_true': labels[split_idx['valid']].reshape((-1,1)),\n",
    "        'y_pred': y_pred[split_idx['valid']],\n",
    "    })['acc']\n",
    "    test_acc = evaluator.eval({\n",
    "        'y_true': labels[split_idx['test']].reshape((-1,1)),\n",
    "        'y_pred': y_pred[split_idx['test']],\n",
    "    })['acc']\n",
    "\n",
    "    return train_acc, valid_acc, test_acc\n",
    "\n",
    "def characterize_performance(model, g, labels, split_idx, evaluator, best_path, verbose=False):\n",
    "    \"\"\"\n",
    "    Gets performance and compares to the Leaderboard performance for GCN.\n",
    "    Optionally (`verbose=True`) will put the performance in context with the variation\n",
    "    reported on the Leaderboard and indicate whether performance is above/below \n",
    "    1-standard deviation from the mean, as given by Leaderboard.\n",
    "    \"\"\"\n",
    "    train_acc, val_acc, test_acc = test(model, g, labels, split_idx, evaluator, best_path)\n",
    "    print(\n",
    "        f\"Leaderboard:  Test Acc={test_acc_lb} +/- {test_acc_lb_var}, Val Acc={val_acc_lb} +/- {val_acc_lb_var}\\n\"\n",
    "        f\"Yours:        Test Acc={test_acc:.4f},            Val Acc={val_acc:.4f}\\n\"\n",
    "    )\n",
    "\n",
    "    val_lb = val_acc_lb - val_acc_lb_var\n",
    "    val_ub = val_acc_lb + val_acc_lb_var\n",
    "    \n",
    "    if verbose:\n",
    "        if not val_acc >= val_lb:\n",
    "            print(\n",
    "                f\"Validation performance is worse than LB.  Expected lower bound of {val_lb:.4f}, but got {val_acc:.4f}.\")\n",
    "        elif val_acc > val_ub:\n",
    "            print(\n",
    "                f\"Validation performance is better than LB.  Expected upper bound of {val_ub:.4f}, but got {val_acc:.4f}.\")\n",
    "        else: \n",
    "            print(\n",
    "                f\"Validation performance is in the expected range of {val_lb} - {val_ub}.\"\n",
    "            )\n",
    "    \n",
    "    test_lb = test_acc_lb - test_acc_lb_var\n",
    "    test_ub = test_acc_lb + test_acc_lb_var\n",
    "    if verbose:\n",
    "        if not test_acc >= test_lb:\n",
    "            print(\n",
    "                f\"Test performance is worse than LB.  Expected lower bound of {test_lb:.4f}, but got {test_acc:.4f}.\")\n",
    "\n",
    "        elif test_acc > test_ub:\n",
    "            print(\n",
    "                f\"Test performance is better than LB.  Expected upper bound of {test_ub:.4f}, but got {test_acc:.4f}.\")\n",
    "        else:\n",
    "            print(f\"Test performance is in the expected range of {test_lb} - {test_ub}.\")\n",
    "        \n",
    "    return val_acc, test_acc\n",
    "\n",
    "def norm_plot(curves, title):\n",
    "    \"\"\"\n",
    "    Plots normal distribution curves\n",
    "    curves: list of tuples like: (mu, sigma, label)\n",
    "    \"\"\"\n",
    "    fig, ax = plt.subplots()\n",
    "    for mu, sigma, label in curves:\n",
    "        x = np.linspace(mu - 3*sigma, mu + 3*sigma, 100)\n",
    "        ax.plot(x, stats.norm.pdf(x, mu, sigma), label=label)\n",
    "    \n",
    "    ax.set_title(title)\n",
    "    ax.legend()\n",
    "    \n",
    "def get_experiment_stats(model_cls, model_args, train_args, n_experiments=10):\n",
    "    \"\"\"\n",
    "    Runs an experiment multiple times to get a measure of variation\n",
    "    \"\"\"\n",
    "    results = dict()\n",
    "    for i in range(n_experiments):\n",
    "        model = model_cls(**model_args).to(train_args['device'])\n",
    "        print(f\"Starting training for experiment {i+1}\")\n",
    "        # Add experiment number to model save_path\n",
    "        train_args_cp = deepcopy(train_args)\n",
    "        save_path, file_ext = train_args_cp.pop('save_path').split('.')\n",
    "        save_path_mod = f\"{save_path}_{i}.{file_ext}\"\n",
    "        \n",
    "        train_losses, val_losses = train(model=model, save_path=save_path_mod, **train_args_cp)\n",
    "        val_acc, test_acc = characterize_performance(\n",
    "            model, train_args['g'], train_args['labels'], train_args['split_idx'], \n",
    "            train_args['evaluator'], save_path_mod, train_args.get('verbose', False))\n",
    "        \n",
    "        results[i] = dict(val_acc=val_acc, test_acc=test_acc)\n",
    "        print(\"Training complete\\n\")\n",
    "        \n",
    "    df_stats = pd.DataFrame(results).T.agg(['mean', 'std'])\n",
    "    return df_stats"
   ]
  },
  {
   "cell_type": "code",
   "execution_count": 9,
   "metadata": {},
   "outputs": [
    {
     "data": {
      "image/png": "[encoded data removed]",
      "text/plain": [
       "<Figure size 640x480 with 1 Axes>"
      ]
     },
     "metadata": {},
     "output_type": "display_data"
    }
   ],
   "source": [
    "norm_plot([(0.4678, 0.0067, 'LB')], 'TMP MAG')"
   ]
  },
  {
   "cell_type": "markdown",
   "metadata": {},
   "source": [
    "# Basics\n",
    "## Get OGB dataset and GCN leaderboard performance\n",
    "We will use the `ogb` python package to download the data, give us the correct train/validation/test splits for proper comparison and an `Evaluator` to make sure performance is measured appropriately.  "
   ]
  },
  {
   "cell_type": "code",
   "execution_count": 10,
   "metadata": {},
   "outputs": [],
   "source": [
    "dataset = DglNodePropPredDataset(name = \"ogbn-arxiv\", root = 'dataset/')"
   ]
  },
  {
   "cell_type": "code",
   "execution_count": 11,
   "metadata": {},
   "outputs": [],
   "source": [
    "# Values from the OGB leaderboard of GCN, submitted May 1, 2020\n",
    "val_acc_lb, val_acc_lb_var, test_acc_lb, test_acc_lb_var = 0.7300, 0.0017, 0.7174, 0.0029\n",
    "evaluator = Evaluator(name = \"ogbn-arxiv\")"
   ]
  },
  {
   "cell_type": "code",
   "execution_count": 12,
   "metadata": {},
   "outputs": [],
   "source": [
    "# Extract split indices, DGL graph and labels\n",
    "split_idx = dataset.get_idx_split()\n",
    "g = dataset.graph[0]\n",
    "labels = dataset.labels.flatten().to(device)"
   ]
  },
  {
   "cell_type": "markdown",
   "metadata": {},
   "source": [
    "### Important \n",
    "Add reverse edges and self-loops to the graph, or performance will severely suffer!  By default, the edges are *directed*, meaning an edge from node A -> B is not an edge from node B -> A.  We need to add these reverse edges.  Also, for GCN we need to add an edge from every node to itself (i.e., \"self-loops\").  \n",
    "\n",
    "**Caution**:  Adding self-loops before adding reverse edges can cause unintuitive behavior that duplicates the self-edges.  Specifically, using the `add_reverse_edges` function ([docs](https://docs.dgl.ai/en/0.8.x/generated/dgl.add_reverse_edges.html)) in DGL prior to version 0.8 will \"reverse\" the self-loops and cause duplicates.  Starting in version 0.8, you can specify the `exclude_self` argument (True by default) to ignore self-loops when reversing.  You can also use the `to_bidirected` function ([docs](https://docs.dgl.ai/en/0.8.x/generated/dgl.to_bidirected.html)) to avoid this pitfall.  "
   ]
  },
  {
   "cell_type": "code",
   "execution_count": 13,
   "metadata": {},
   "outputs": [
    {
     "data": {
      "text/plain": [
       "2484941"
      ]
     },
     "execution_count": 13,
     "metadata": {},
     "output_type": "execute_result"
    }
   ],
   "source": [
    "# TODO\n",
    "#ndata = g.ndata\n",
    "g = dgl.to_bidirected(g,copy_ndata=True)\n",
    "g = dgl.add_self_loop(g)\n",
    "g.num_edges()"
   ]
  },
  {
   "cell_type": "code",
   "execution_count": 14,
   "metadata": {},
   "outputs": [],
   "source": [
    "# If this fails, you have a mistake\n",
    "assert g.num_edges() == 2484941, \"Number of edges isn't correct!  Make sure self-loop and reverse edges are added.\"\n",
    "# If this fails, you have duplicate edges\n",
    "assert g.is_multigraph is False\n",
    "# If this fails and you used `to_bidirected`, check the documentation for this function\n",
    "assert 'feat' in g.ndata, \"Node features are missing.  Did you drop them?\""
   ]
  },
  {
   "cell_type": "code",
   "execution_count": 15,
   "metadata": {},
   "outputs": [],
   "source": [
    "g = g.to(device)"
   ]
  },
  {
   "cell_type": "markdown",
   "metadata": {},
   "source": [
    "## Define GCN Model\n",
    "To match the performance on the Leaderboard, we'll need to implement our model using the same architecture as the submission.  Note that [their implementation](https://github.com/snap-stanford/ogb/blob/master/examples/nodeproppred/arxiv/gnn.py#L14) is using PyTorch Geometric, not DGL.  However, we can observe these key elements, which you'll need to reproduce:\n",
    "1. Graph Convolution layer\n",
    "    - Exploring the possible arguments (e.g., normalization, if a bias is included, \"improved\"...etc) could raise many questions, but the defaults of optional arguments between DGL and Geometric should give matching implementations (as of this writing).\n",
    "2. Batch Normalization layer\n",
    "    - Not applied to the final output layer\n",
    "3. ReLU activation\n",
    "    - Not applied to the final output layer\n",
    "4. Dropout\n",
    "    - Not applied to the final output layer\n",
    "  \n",
    "Your model output should be the *raw scores* coming from the final Graph Convolution layer (i.e., has shape `(num_nodes, num_classes)`.  The loss function will apply the Softmax activation when calculating the Cross Entropy."
   ]
  },
  {
   "cell_type": "code",
   "execution_count": 16,
   "metadata": {},
   "outputs": [],
   "source": [
    "class GCN(nn.Module):\n",
    "    def __init__(self, in_channels, hidden_channels, out_channels, num_layers, add_bn=True, dropout=0): # TODO:  Add arguments here needed to define model components\n",
    "        \"\"\"\n",
    "        Defines the architecture of your model.  All layers with learnable parameters should\n",
    "        be created in this method.  The `forward` method will define how to use the \n",
    "        layers created here.\n",
    "        \n",
    "        You will also need to add arguments to the `__init__` method that you need to \n",
    "        create your layers.  For example, you might want to include a `num_layers` argument\n",
    "        so that you can dynamically change the number of layers, and a `dropout` argument \n",
    "        so that this is easy to change.\n",
    "        \n",
    "        Args:\n",
    "            ?\n",
    "        \"\"\"\n",
    "        super(GCN, self).__init__()\n",
    "        #pass\n",
    "        self.add_bn = add_bn\n",
    "        self.dropout = dropout\n",
    "        \n",
    "        # Input Layer\n",
    "        self.convs = nn.ModuleList() # hold all convolution layer \n",
    "        self.convs.append(GraphConv(in_channels, hidden_channels)) #one graph conv\n",
    "        if self.add_bn:\n",
    "            self.bns = nn.ModuleList()\n",
    "            self.bns.append(nn.BatchNorm1d(hidden_channels))\n",
    "\n",
    "        # Hidden layers\n",
    "        for _ in range(num_layers - 2): #-2 because subtract one for input and one for output\n",
    "            self.convs.append(\n",
    "                GraphConv(hidden_channels, hidden_channels))\n",
    "            if self.add_bn:\n",
    "                self.bns.append(nn.BatchNorm1d(hidden_channels))\n",
    "        # Output layer\n",
    "        self.convs.append(GraphConv(hidden_channels, out_channels))\n",
    "        \n",
    "\n",
    "    def forward(self, g, in_feat): #sticking together\n",
    "        \"\"\"\n",
    "        The forward pass of the model, which applies all of the layers\n",
    "        to a given graph and set of node features\n",
    "        \n",
    "        Args:\n",
    "            g (DGLGraph): the graph used for Graph Convolutions\n",
    "            in_feat (Tensor): the node features\n",
    "        \"\"\"\n",
    "        h = in_feat #keep the embedding which receives the updates\n",
    "        for i, conv in enumerate(self.convs[:-1]): #cycle through all the layer expect last\n",
    "            h = conv(g, h)\n",
    "            if self.add_bn:\n",
    "                h = self.bns[i](h)\n",
    "            h = F.relu(h)\n",
    "            h = F.dropout(h, p=self.dropout, training=self.training)\n",
    "        h = self.convs[-1](g, h)\n",
    "        return h"
   ]
  },
  {
   "cell_type": "markdown",
   "metadata": {},
   "source": [
    "Put all of the arguments you added to the `__init__` method of your GCN model in a dictionary, where the key is the argument name and the value is the argument value.  For example:\n",
    "\n",
    "```python\n",
    "model_kwargs = dict(dropout=0.5, num_layers=3)\n",
    "```\n",
    "\n",
    "To match the Leaderboard performance, use the following hyperparameters:\n",
    "- Hidden layer size:  256\n",
    "- Total number of GCN layers (input + hidden + output):  3\n",
    "- Dropout: 0.5"
   ]
  },
  {
   "cell_type": "code",
   "execution_count": 17,
   "metadata": {},
   "outputs": [],
   "source": [
    "model_kwargs = dict(\n",
    "    in_channels=g.ndata['feat'].shape[1], \n",
    "    hidden_channels=256, \n",
    "    out_channels=dataset.num_classes, \n",
    "    num_layers=3,\n",
    "    dropout=0.5\n",
    ")\n",
    "model = GCN(**model_kwargs).to(device)"
   ]
  },
  {
   "cell_type": "code",
   "execution_count": 18,
   "metadata": {},
   "outputs": [
    {
     "data": {
      "text/plain": [
       "GCN(\n",
       "  (convs): ModuleList(\n",
       "    (0): GraphConv(in=128, out=256, normalization=both, activation=None)\n",
       "    (1): GraphConv(in=256, out=256, normalization=both, activation=None)\n",
       "    (2): GraphConv(in=256, out=40, normalization=both, activation=None)\n",
       "  )\n",
       "  (bns): ModuleList(\n",
       "    (0-1): 2 x BatchNorm1d(256, eps=1e-05, momentum=0.1, affine=True, track_running_stats=True)\n",
       "  )\n",
       ")"
      ]
     },
     "execution_count": 18,
     "metadata": {},
     "output_type": "execute_result"
    }
   ],
   "source": [
    "model"
   ]
  },
  {
   "cell_type": "code",
   "execution_count": 19,
   "metadata": {},
   "outputs": [],
   "source": [
    "# If this fails, the number of parameters in your model doesn't match the leaderboard's\n",
    "# This means your architecture is different\n",
    "leader_parms = 110120\n",
    "model_parms = sum(p.numel() for p in model.parameters() if p.requires_grad)\n",
    "assert leader_parms == model_parms, \"Number of model parameters different than Leaderboard's\""
   ]
  },
  {
   "cell_type": "markdown",
   "metadata": {},
   "source": [
    "### GCN Training"
   ]
  },
  {
   "cell_type": "code",
   "execution_count": 20,
   "metadata": {},
   "outputs": [],
   "source": [
    "# Where to save the best model\n",
    "model_path = 'models'\n",
    "Path(model_path).mkdir(parents=True, exist_ok=True)\n",
    "gcn_path = f\"{model_path}/gcn_base.model\""
   ]
  },
  {
   "cell_type": "code",
   "execution_count": 21,
   "metadata": {},
   "outputs": [],
   "source": [
    "train_args = dict(\n",
    "    g=g, labels=labels, split_idx=split_idx, \n",
    "    epochs=500, evaluator=evaluator, device=device, \n",
    "    save_path=gcn_path, lr=5e-3, es_criteria=50,\n",
    ")"
   ]
  },
  {
   "cell_type": "markdown",
   "metadata": {},
   "source": [
    "#### Single run\n",
    "Make sure results are reasonable before collecting statistics"
   ]
  },
  {
   "cell_type": "code",
   "execution_count": 22,
   "metadata": {},
   "outputs": [
    {
     "name": "stdout",
     "output_type": "stream",
     "text": [
      "In epoch 50, loss: 1.031, val acc: 0.703 (best 0.703), test acc: 0.694 (best 0.694)\n",
      "In epoch 100, loss: 0.931, val acc: 0.718 (best 0.719), test acc: 0.708 (best 0.710)\n",
      "In epoch 150, loss: 0.879, val acc: 0.713 (best 0.725), test acc: 0.689 (best 0.715)\n",
      "In epoch 200, loss: 0.834, val acc: 0.724 (best 0.726), test acc: 0.708 (best 0.717)\n",
      "In epoch 250, loss: 0.804, val acc: 0.719 (best 0.729), test acc: 0.696 (best 0.722)\n",
      "Early stopping at 261 epochs\n"
     ]
    }
   ],
   "source": [
    "train_losses, val_losses = train(model=model, verbose=True, **train_args)"
   ]
  },
  {
   "cell_type": "code",
   "execution_count": 23,
   "metadata": {},
   "outputs": [
    {
     "data": {
      "image/png": "[encoded data removed]",
      "text/plain": [
       "<Figure size 640x480 with 1 Axes>"
      ]
     },
     "metadata": {},
     "output_type": "display_data"
    }
   ],
   "source": [
    "plot_losses(train_losses, val_losses, log=True)"
   ]
  },
  {
   "cell_type": "markdown",
   "metadata": {},
   "source": [
    "The Leaderboard reports the average performance and the standard deviation across 10 trials.  This will evaluate whether your model's performance is within 1 standard deviation of the mean (expected to happen in 68% of cases if your model has the same performance as the leaderboard).  It will report your performance as \"Worse\" if it's less than $\\mu - \\sigma$ and \"Better\" if it's greater than $\\mu + \\sigma$ (where $\\mu$ is the average and $\\sigma$ is the standard deviation).  Even if your performance is identical, this will be wrong in ~32% of cases, so try a few times if it's close, or consider the $\\pm 2\\sigma$ range instead for 95% confidence."
   ]
  },
  {
   "cell_type": "code",
   "execution_count": 24,
   "metadata": {},
   "outputs": [
    {
     "name": "stdout",
     "output_type": "stream",
     "text": [
      "Leaderboard:  Test Acc=0.7174 +/- 0.0029, Val Acc=0.73 +/- 0.0017\n",
      "Yours:        Test Acc=0.7218,            Val Acc=0.7293\n",
      "\n",
      "Validation performance is in the expected range of 0.7283 - 0.7317.\n",
      "Test performance is better than LB.  Expected upper bound of 0.7203, but got 0.7218.\n"
     ]
    }
   ],
   "source": [
    "_ = characterize_performance(model, g, labels, split_idx, evaluator, gcn_path, verbose=True)"
   ]
  },
  {
   "cell_type": "markdown",
   "metadata": {},
   "source": [
    "#### Collect statistics\n",
    "To properly assess the quality of our model, we'll need to run several times and compare the performance distribution.  Since this is time consuming, *only run this once you're getting reasonable results from single runs.*"
   ]
  },
  {
   "cell_type": "code",
   "execution_count": 25,
   "metadata": {},
   "outputs": [
    {
     "name": "stdout",
     "output_type": "stream",
     "text": [
      "Starting training for experiment 1\n",
      "Early stopping at 370 epochs\n",
      "Leaderboard:  Test Acc=0.7174 +/- 0.0029, Val Acc=0.73 +/- 0.0017\n",
      "Yours:        Test Acc=0.7250,            Val Acc=0.7330\n",
      "\n",
      "Training complete\n",
      "\n",
      "Starting training for experiment 2\n",
      "Early stopping at 480 epochs\n",
      "Leaderboard:  Test Acc=0.7174 +/- 0.0029, Val Acc=0.73 +/- 0.0017\n",
      "Yours:        Test Acc=0.7169,            Val Acc=0.7322\n",
      "\n",
      "Training complete\n",
      "\n",
      "Starting training for experiment 3\n",
      "Early stopping at 280 epochs\n",
      "Leaderboard:  Test Acc=0.7174 +/- 0.0029, Val Acc=0.73 +/- 0.0017\n",
      "Yours:        Test Acc=0.7166,            Val Acc=0.7290\n",
      "\n",
      "Training complete\n",
      "\n",
      "Starting training for experiment 4\n"
     ]
    },
    {
     "ename": "KeyboardInterrupt",
     "evalue": "",
     "output_type": "error",
     "traceback": [
      "\u001b[0;31m---------------------------------------------------------------------------\u001b[0m",
      "\u001b[0;31mKeyboardInterrupt\u001b[0m                         Traceback (most recent call last)",
      "Cell \u001b[0;32mIn[25], line 1\u001b[0m\n\u001b[0;32m----> 1\u001b[0m df_gcn \u001b[39m=\u001b[39m get_experiment_stats(\n\u001b[1;32m      2\u001b[0m     model_cls\u001b[39m=\u001b[39;49mGCN, model_args\u001b[39m=\u001b[39;49mmodel_kwargs,\n\u001b[1;32m      3\u001b[0m     train_args\u001b[39m=\u001b[39;49mtrain_args, n_experiments\u001b[39m=\u001b[39;49m\u001b[39m10\u001b[39;49m\n\u001b[1;32m      4\u001b[0m )\n",
      "Cell \u001b[0;32mIn[8], line 185\u001b[0m, in \u001b[0;36mget_experiment_stats\u001b[0;34m(model_cls, model_args, train_args, n_experiments)\u001b[0m\n\u001b[1;32m    182\u001b[0m save_path, file_ext \u001b[39m=\u001b[39m train_args_cp\u001b[39m.\u001b[39mpop(\u001b[39m'\u001b[39m\u001b[39msave_path\u001b[39m\u001b[39m'\u001b[39m)\u001b[39m.\u001b[39msplit(\u001b[39m'\u001b[39m\u001b[39m.\u001b[39m\u001b[39m'\u001b[39m)\n\u001b[1;32m    183\u001b[0m save_path_mod \u001b[39m=\u001b[39m \u001b[39mf\u001b[39m\u001b[39m\"\u001b[39m\u001b[39m{\u001b[39;00msave_path\u001b[39m}\u001b[39;00m\u001b[39m_\u001b[39m\u001b[39m{\u001b[39;00mi\u001b[39m}\u001b[39;00m\u001b[39m.\u001b[39m\u001b[39m{\u001b[39;00mfile_ext\u001b[39m}\u001b[39;00m\u001b[39m\"\u001b[39m\n\u001b[0;32m--> 185\u001b[0m train_losses, val_losses \u001b[39m=\u001b[39m train(model\u001b[39m=\u001b[39;49mmodel, save_path\u001b[39m=\u001b[39;49msave_path_mod, \u001b[39m*\u001b[39;49m\u001b[39m*\u001b[39;49mtrain_args_cp)\n\u001b[1;32m    186\u001b[0m val_acc, test_acc \u001b[39m=\u001b[39m characterize_performance(\n\u001b[1;32m    187\u001b[0m     model, train_args[\u001b[39m'\u001b[39m\u001b[39mg\u001b[39m\u001b[39m'\u001b[39m], train_args[\u001b[39m'\u001b[39m\u001b[39mlabels\u001b[39m\u001b[39m'\u001b[39m], train_args[\u001b[39m'\u001b[39m\u001b[39msplit_idx\u001b[39m\u001b[39m'\u001b[39m], \n\u001b[1;32m    188\u001b[0m     train_args[\u001b[39m'\u001b[39m\u001b[39mevaluator\u001b[39m\u001b[39m'\u001b[39m], save_path_mod, train_args\u001b[39m.\u001b[39mget(\u001b[39m'\u001b[39m\u001b[39mverbose\u001b[39m\u001b[39m'\u001b[39m, \u001b[39mFalse\u001b[39;00m))\n\u001b[1;32m    190\u001b[0m results[i] \u001b[39m=\u001b[39m \u001b[39mdict\u001b[39m(val_acc\u001b[39m=\u001b[39mval_acc, test_acc\u001b[39m=\u001b[39mtest_acc)\n",
      "Cell \u001b[0;32mIn[8], line 43\u001b[0m, in \u001b[0;36mtrain\u001b[0;34m(g, labels, split_idx, model, epochs, evaluator, device, save_path, loss_fn, lr, es_criteria, verbose)\u001b[0m\n\u001b[1;32m     40\u001b[0m val_losses\u001b[39m.\u001b[39mappend(val_loss)\n\u001b[1;32m     42\u001b[0m \u001b[39m# Compute accuracy on training/validation/test\u001b[39;00m\n\u001b[0;32m---> 43\u001b[0m train_acc, val_acc, test_acc \u001b[39m=\u001b[39m test(model, g, labels, split_idx, evaluator)\n\u001b[1;32m     45\u001b[0m \u001b[39m# Save the best validation accuracy and the corresponding test accuracy.\u001b[39;00m\n\u001b[1;32m     46\u001b[0m \u001b[39mif\u001b[39;00m best_val_acc \u001b[39m<\u001b[39m val_acc:\n",
      "File \u001b[0;32m~/Library/Python/3.9/lib/python/site-packages/torch/utils/_contextlib.py:115\u001b[0m, in \u001b[0;36mcontext_decorator.<locals>.decorate_context\u001b[0;34m(*args, **kwargs)\u001b[0m\n\u001b[1;32m    112\u001b[0m \u001b[39m@functools\u001b[39m\u001b[39m.\u001b[39mwraps(func)\n\u001b[1;32m    113\u001b[0m \u001b[39mdef\u001b[39;00m \u001b[39mdecorate_context\u001b[39m(\u001b[39m*\u001b[39margs, \u001b[39m*\u001b[39m\u001b[39m*\u001b[39mkwargs):\n\u001b[1;32m    114\u001b[0m     \u001b[39mwith\u001b[39;00m ctx_factory():\n\u001b[0;32m--> 115\u001b[0m         \u001b[39mreturn\u001b[39;00m func(\u001b[39m*\u001b[39;49margs, \u001b[39m*\u001b[39;49m\u001b[39m*\u001b[39;49mkwargs)\n",
      "Cell \u001b[0;32mIn[8], line 98\u001b[0m, in \u001b[0;36mtest\u001b[0;34m(model_cp, g, labels, split_idx, evaluator, best_path)\u001b[0m\n\u001b[1;32m     95\u001b[0m model\u001b[39m.\u001b[39meval()\n\u001b[1;32m     97\u001b[0m features \u001b[39m=\u001b[39m g\u001b[39m.\u001b[39mndata[\u001b[39m'\u001b[39m\u001b[39mfeat\u001b[39m\u001b[39m'\u001b[39m]\n\u001b[0;32m---> 98\u001b[0m logits \u001b[39m=\u001b[39m model(g, features)\n\u001b[1;32m     99\u001b[0m y_pred \u001b[39m=\u001b[39m logits\u001b[39m.\u001b[39margmax(\u001b[39m1\u001b[39m, keepdim\u001b[39m=\u001b[39m\u001b[39mTrue\u001b[39;00m)\n\u001b[1;32m    101\u001b[0m train_acc \u001b[39m=\u001b[39m evaluator\u001b[39m.\u001b[39meval({\n\u001b[1;32m    102\u001b[0m     \u001b[39m'\u001b[39m\u001b[39my_true\u001b[39m\u001b[39m'\u001b[39m: labels[split_idx[\u001b[39m'\u001b[39m\u001b[39mtrain\u001b[39m\u001b[39m'\u001b[39m]]\u001b[39m.\u001b[39mreshape((\u001b[39m-\u001b[39m\u001b[39m1\u001b[39m,\u001b[39m1\u001b[39m)),\n\u001b[1;32m    103\u001b[0m     \u001b[39m'\u001b[39m\u001b[39my_pred\u001b[39m\u001b[39m'\u001b[39m: y_pred[split_idx[\u001b[39m'\u001b[39m\u001b[39mtrain\u001b[39m\u001b[39m'\u001b[39m]],\n\u001b[1;32m    104\u001b[0m })[\u001b[39m'\u001b[39m\u001b[39macc\u001b[39m\u001b[39m'\u001b[39m]\n",
      "File \u001b[0;32m~/Library/Python/3.9/lib/python/site-packages/torch/nn/modules/module.py:1501\u001b[0m, in \u001b[0;36mModule._call_impl\u001b[0;34m(self, *args, **kwargs)\u001b[0m\n\u001b[1;32m   1496\u001b[0m \u001b[39m# If we don't have any hooks, we want to skip the rest of the logic in\u001b[39;00m\n\u001b[1;32m   1497\u001b[0m \u001b[39m# this function, and just call forward.\u001b[39;00m\n\u001b[1;32m   1498\u001b[0m \u001b[39mif\u001b[39;00m \u001b[39mnot\u001b[39;00m (\u001b[39mself\u001b[39m\u001b[39m.\u001b[39m_backward_hooks \u001b[39mor\u001b[39;00m \u001b[39mself\u001b[39m\u001b[39m.\u001b[39m_backward_pre_hooks \u001b[39mor\u001b[39;00m \u001b[39mself\u001b[39m\u001b[39m.\u001b[39m_forward_hooks \u001b[39mor\u001b[39;00m \u001b[39mself\u001b[39m\u001b[39m.\u001b[39m_forward_pre_hooks\n\u001b[1;32m   1499\u001b[0m         \u001b[39mor\u001b[39;00m _global_backward_pre_hooks \u001b[39mor\u001b[39;00m _global_backward_hooks\n\u001b[1;32m   1500\u001b[0m         \u001b[39mor\u001b[39;00m _global_forward_hooks \u001b[39mor\u001b[39;00m _global_forward_pre_hooks):\n\u001b[0;32m-> 1501\u001b[0m     \u001b[39mreturn\u001b[39;00m forward_call(\u001b[39m*\u001b[39;49margs, \u001b[39m*\u001b[39;49m\u001b[39m*\u001b[39;49mkwargs)\n\u001b[1;32m   1502\u001b[0m \u001b[39m# Do not call functions when jit is used\u001b[39;00m\n\u001b[1;32m   1503\u001b[0m full_backward_hooks, non_full_backward_hooks \u001b[39m=\u001b[39m [], []\n",
      "Cell \u001b[0;32mIn[16], line 49\u001b[0m, in \u001b[0;36mGCN.forward\u001b[0;34m(self, g, in_feat)\u001b[0m\n\u001b[1;32m     47\u001b[0m h \u001b[39m=\u001b[39m in_feat \u001b[39m#keep the embedding which receives the updates\u001b[39;00m\n\u001b[1;32m     48\u001b[0m \u001b[39mfor\u001b[39;00m i, conv \u001b[39min\u001b[39;00m \u001b[39menumerate\u001b[39m(\u001b[39mself\u001b[39m\u001b[39m.\u001b[39mconvs[:\u001b[39m-\u001b[39m\u001b[39m1\u001b[39m]): \u001b[39m#cycle through all the layer expect last\u001b[39;00m\n\u001b[0;32m---> 49\u001b[0m     h \u001b[39m=\u001b[39m conv(g, h)\n\u001b[1;32m     50\u001b[0m     \u001b[39mif\u001b[39;00m \u001b[39mself\u001b[39m\u001b[39m.\u001b[39madd_bn:\n\u001b[1;32m     51\u001b[0m         h \u001b[39m=\u001b[39m \u001b[39mself\u001b[39m\u001b[39m.\u001b[39mbns[i](h)\n",
      "File \u001b[0;32m~/Library/Python/3.9/lib/python/site-packages/torch/nn/modules/module.py:1501\u001b[0m, in \u001b[0;36mModule._call_impl\u001b[0;34m(self, *args, **kwargs)\u001b[0m\n\u001b[1;32m   1496\u001b[0m \u001b[39m# If we don't have any hooks, we want to skip the rest of the logic in\u001b[39;00m\n\u001b[1;32m   1497\u001b[0m \u001b[39m# this function, and just call forward.\u001b[39;00m\n\u001b[1;32m   1498\u001b[0m \u001b[39mif\u001b[39;00m \u001b[39mnot\u001b[39;00m (\u001b[39mself\u001b[39m\u001b[39m.\u001b[39m_backward_hooks \u001b[39mor\u001b[39;00m \u001b[39mself\u001b[39m\u001b[39m.\u001b[39m_backward_pre_hooks \u001b[39mor\u001b[39;00m \u001b[39mself\u001b[39m\u001b[39m.\u001b[39m_forward_hooks \u001b[39mor\u001b[39;00m \u001b[39mself\u001b[39m\u001b[39m.\u001b[39m_forward_pre_hooks\n\u001b[1;32m   1499\u001b[0m         \u001b[39mor\u001b[39;00m _global_backward_pre_hooks \u001b[39mor\u001b[39;00m _global_backward_hooks\n\u001b[1;32m   1500\u001b[0m         \u001b[39mor\u001b[39;00m _global_forward_hooks \u001b[39mor\u001b[39;00m _global_forward_pre_hooks):\n\u001b[0;32m-> 1501\u001b[0m     \u001b[39mreturn\u001b[39;00m forward_call(\u001b[39m*\u001b[39;49margs, \u001b[39m*\u001b[39;49m\u001b[39m*\u001b[39;49mkwargs)\n\u001b[1;32m   1502\u001b[0m \u001b[39m# Do not call functions when jit is used\u001b[39;00m\n\u001b[1;32m   1503\u001b[0m full_backward_hooks, non_full_backward_hooks \u001b[39m=\u001b[39m [], []\n",
      "File \u001b[0;32m~/Library/Python/3.9/lib/python/site-packages/dgl/nn/pytorch/conv/graphconv.py:460\u001b[0m, in \u001b[0;36mGraphConv.forward\u001b[0;34m(self, graph, feat, weight, edge_weight)\u001b[0m\n\u001b[1;32m    458\u001b[0m     rst \u001b[39m=\u001b[39m graph\u001b[39m.\u001b[39mdstdata[\u001b[39m\"\u001b[39m\u001b[39mh\u001b[39m\u001b[39m\"\u001b[39m]\n\u001b[1;32m    459\u001b[0m     \u001b[39mif\u001b[39;00m weight \u001b[39mis\u001b[39;00m \u001b[39mnot\u001b[39;00m \u001b[39mNone\u001b[39;00m:\n\u001b[0;32m--> 460\u001b[0m         rst \u001b[39m=\u001b[39m th\u001b[39m.\u001b[39;49mmatmul(rst, weight)\n\u001b[1;32m    462\u001b[0m \u001b[39mif\u001b[39;00m \u001b[39mself\u001b[39m\u001b[39m.\u001b[39m_norm \u001b[39min\u001b[39;00m [\u001b[39m\"\u001b[39m\u001b[39mright\u001b[39m\u001b[39m\"\u001b[39m, \u001b[39m\"\u001b[39m\u001b[39mboth\u001b[39m\u001b[39m\"\u001b[39m]:\n\u001b[1;32m    463\u001b[0m     degs \u001b[39m=\u001b[39m graph\u001b[39m.\u001b[39min_degrees()\u001b[39m.\u001b[39mto(feat_dst)\u001b[39m.\u001b[39mclamp(\u001b[39mmin\u001b[39m\u001b[39m=\u001b[39m\u001b[39m1\u001b[39m)\n",
      "\u001b[0;31mKeyboardInterrupt\u001b[0m: "
     ]
    }
   ],
   "source": [
    "df_gcn = get_experiment_stats(\n",
    "    model_cls=GCN, model_args=model_kwargs,\n",
    "    train_args=train_args, n_experiments=10\n",
    ")"
   ]
  },
  {
   "cell_type": "code",
   "execution_count": null,
   "metadata": {},
   "outputs": [],
   "source": [
    "norm_plot(\n",
    "    [\n",
    "        (test_acc_lb, test_acc_lb_var, 'Leaderboard'), \n",
    "        (df_gcn.loc['mean', 'test_acc'], df_gcn.loc['std', 'test_acc'], 'GCN'),\n",
    "    ],\n",
    "    'Test Performance'\n",
    ")"
   ]
  },
  {
   "cell_type": "code",
   "execution_count": null,
   "metadata": {},
   "outputs": [],
   "source": [
    "# Conduct a Welch's t-test to determine if the means are different with statistical significance \n",
    "_, p = stats.ttest_ind_from_stats(\n",
    "    test_acc_lb, test_acc_lb_var, 10,\n",
    "    df_gcn.loc['mean', 'test_acc'], df_gcn.loc['std', 'test_acc'], 10,\n",
    "    equal_var=False,\n",
    ")\n",
    "print(f\"Mean Test Accuracy Improvement: {(df_gcn.loc['mean', 'test_acc'] - test_acc_lb):.4f}\")\n",
    "print(f\"Probability that these are from the same performance distribution = {p*100:.0f}%\")"
   ]
  },
  {
   "cell_type": "markdown",
   "metadata": {},
   "source": [
    "# Improvements\n",
    "Now that we can match the GCN performance from the Leaderboard we can go about improving upon it.  In this section, we will implement a few ideas from the [\"Bag of Tricks\"](https://arxiv.org/abs/2103.13355) paper.  Specifically, we will implement:\n",
    "\n",
    "1. The \"Loge\" loss function they propose\n",
    "2. Linear projected skip connections + Input Dropout (also with Loge loss)\n",
    "\n",
    "These changes should result in climbing several positions up the Leaderboard.  "
   ]
  },
  {
   "cell_type": "code",
   "execution_count": null,
   "metadata": {},
   "outputs": [],
   "source": [
    "def loge(x, labels):\n",
    "    \"\"\"\n",
    "    The \"Loge\" loss function described in the paper.  Should take the same inputs\n",
    "    as the `F.cross_entropy` functional of torch.\n",
    "    \n",
    "    Use `epsilon = 1 - math.log(2)` and take the average across the batch\n",
    "\n",
    "    Args:\n",
    "        x (Tensor): the model predictions\n",
    "        labels (Tensor): node labels\n",
    "        \n",
    "    Returns:\n",
    "        The average Loge loss across the batch\n",
    "    \"\"\"\n",
    "    # TODO\n",
    "    # Implement the Loge loss function described in the paper\n",
    "    pass"
   ]
  },
  {
   "cell_type": "code",
   "execution_count": null,
   "metadata": {},
   "outputs": [],
   "source": [
    "model_loge_kwargs = dict(\n",
    "    # TODO: Add your parameter values\n",
    ")\n",
    "model_loge = GCN(**model_loge_kwargs).to(device)"
   ]
  },
  {
   "cell_type": "code",
   "execution_count": null,
   "metadata": {},
   "outputs": [],
   "source": [
    "gcn_loge_path = f\"{model_path}/gcn_loge.model\""
   ]
  },
  {
   "cell_type": "code",
   "execution_count": null,
   "metadata": {},
   "outputs": [],
   "source": [
    "train_loge_args = dict(\n",
    "    g=g, labels=labels, split_idx=split_idx, \n",
    "    epochs=500, evaluator=evaluator, device=device, \n",
    "    save_path=gcn_loge_path, lr=5e-3, es_criteria=50,\n",
    "    loss_fn=loge # this changes the loss function to use \"loge\"\n",
    ")"
   ]
  },
  {
   "cell_type": "code",
   "execution_count": null,
   "metadata": {},
   "outputs": [],
   "source": [
    "train_losses, val_losses = train(model=model_loge, verbose=True, **train_loge_args)"
   ]
  },
  {
   "cell_type": "code",
   "execution_count": null,
   "metadata": {},
   "outputs": [],
   "source": [
    "plot_losses(train_losses, val_losses, log=True)"
   ]
  },
  {
   "cell_type": "code",
   "execution_count": null,
   "metadata": {},
   "outputs": [],
   "source": [
    "_ = characterize_performance(model_loge, g, labels, split_idx, evaluator, gcn_loge_path, verbose=True)"
   ]
  },
  {
   "cell_type": "markdown",
   "metadata": {},
   "source": [
    "#### Collect statistics"
   ]
  },
  {
   "cell_type": "code",
   "execution_count": null,
   "metadata": {},
   "outputs": [],
   "source": [
    "df_loge = get_experiment_stats(\n",
    "    model_cls=GCN, model_args=model_loge_kwargs,\n",
    "    train_args=train_loge_args, n_experiments=10\n",
    ")"
   ]
  },
  {
   "cell_type": "code",
   "execution_count": null,
   "metadata": {},
   "outputs": [],
   "source": [
    "norm_plot(\n",
    "    [\n",
    "        (test_acc_lb, test_acc_lb_var, 'Leaderboard'), \n",
    "        (df_gcn.loc['mean', 'test_acc'], df_gcn.loc['std', 'test_acc'], 'GCN'),\n",
    "        (df_loge.loc['mean', 'test_acc'], df_loge.loc['std', 'test_acc'], 'Loge Loss Func'),\n",
    "    ],\n",
    "    'Test Performance'\n",
    ")"
   ]
  },
  {
   "cell_type": "code",
   "execution_count": null,
   "metadata": {},
   "outputs": [],
   "source": [
    "# Conduct a Welch's t-test to determine if the means are different with statistical significance \n",
    "_, p = stats.ttest_ind_from_stats(\n",
    "    test_acc_lb, test_acc_lb_var, 10,\n",
    "    df_loge.loc['mean', 'test_acc'], df_loge.loc['std', 'test_acc'], 10,\n",
    "    equal_var=False,\n",
    ")\n",
    "print(f\"Mean Test Accuracy Improvement: {(df_loge.loc['mean', 'test_acc'] - test_acc_lb):.4f}\")\n",
    "print(f\"Probability that these are from the same performance distribution = {p*100:.0f}%\")"
   ]
  },
  {
   "attachments": {},
   "cell_type": "markdown",
   "metadata": {},
   "source": [
    "## Linear skip connections + Input Dropout\n",
    "Here we will implement a skip connection that adds (a linear transformation of) \n",
    "the input to the output of the Graph Convolution layer.  Additionally, we will \n",
    "add Dropout to the raw input features.\n",
    "\n",
    "### Details\n",
    "There are several choices to make during implementation, and here I'll describe\n",
    "some of mine to enable reproducibility.  Feel free to experiment, as other \n",
    "choices may improve performance.\n",
    "\n",
    "Let's call the input node features $X$.  First, we apply dropout: \n",
    "$X_d = \\text{Dropout}(X)$.  Next, we have two terms to calculate: \n",
    "1. A linear projection of the input: $X_\\text{linear} = W * X_d$\n",
    "2. A GCN output: $X_\\text{GCN} = \\text{GraphConv}(g, X_d)$\n",
    "\n",
    "Next, we add these terms to get the skip connection: \n",
    "$Z = X_\\text{linear} + X_\\text{GCN}$.  In other words, we apply a normal NN \n",
    "layer and a GCN layer in parallel, and then add the results. This let's the raw \n",
    "feature signal pass through and not get lost by doing the neighborhood \n",
    "averaging operation of GCN.\n",
    "\n",
    "For hidden layers, this output is finally passed through a stack of BatchNorm, \n",
    "ReLU activation and Dropout:  \n",
    "$$H = \\text{Dropout}(\\text{ReLU}(\\text{BatchNorm}(Z))).$$\n",
    "\n",
    "There is some debate on the proper order of these operations--feel free to \n",
    "experiment.  *Note that for the last layer, no dropout, ReLU, or BatchNorm is \n",
    "applied.*\n",
    "\n",
    "#### Bias terms\n",
    "In the above, I exclude bias terms from the Linear and GCN layers, but \n",
    "either could include them (e.g., $X_\\text{linear} = W * X_d + b$).  In my case, \n",
    "**I only use a bias in the last layer**.  (If you do something different, the \n",
    "assertion below for number of model parameters will fail.)  This is because \n",
    "there is likely to be a \n",
    "class imbalance, and a final additive bias term can be learned to match the \n",
    "overall class balance, and therefore free up the remaining model parameters to \n",
    "not have to worry about that. \n",
    "\n",
    "To be clear, you could make _either_ the linear or GCN layer have the bias, and \n",
    "the results would be the same. Both are equivalent to writing \n",
    "$Z = X_\\text{linear} + X_\\text{GCN} + b$, and it's inconsequential whether you \n",
    "consider $b$ to be part of the linear or GCN layer (but it's pointless to do \n",
    "both).  To summarize, you can match my architecture and get the same number of \n",
    "model parameters by doing the following:\n",
    "- Set `bias=False` in all hidden linear and GCN layers.  Use the `Z -> BatchNorm -> ReLU -> Dropout` stack.\n",
    "- Set `bias=True` for either the last linear layer, or last GCN layer, but not both.  No BatchNorm/ReLU/Dropout operations."
   ]
  },
  {
   "cell_type": "code",
   "execution_count": null,
   "metadata": {},
   "outputs": [],
   "source": [
    "class GCNwLinear(nn.Module):\n",
    "    def __init__(self, ): # TODO: add your arguments\n",
    "        \n",
    "        super(GCNwLinear, self).__init__()\n",
    "        # TODO \n",
    "        \"\"\"\n",
    "        In addition to GCN from before, create the linear layers to operate on the \n",
    "        input of each GraphConv layer.  As before, also create Batch Norm layers for \n",
    "        all GraphConv layers *except the last one*.\n",
    "        \n",
    "        All layers except the last should support Dropout.  \n",
    "        \n",
    "        For the *input dropout*, it should be as follows:\n",
    "            `self.input_drop = nn.Dropout(min(0.1, dropout))`\n",
    "            \n",
    "        which means that while the network layers can have any value of Dropout, the input\n",
    "        features never receive more than 0.1 dropout rate.\n",
    "        \n",
    "        To re-create my results, only use a bias in *last* GraphConv layer\n",
    "        and none of the linear layers or earlier GraphConv layers.\n",
    "        \"\"\"\n",
    "        # TODO\n",
    "        \n",
    "        \n",
    "        # Input layer: dropout, Linear, GraphConv, BatchNorm\n",
    "        \n",
    "        \n",
    "        # Hidden layers: dropout, Linear, GraphConv, BatchNorm\n",
    "        \n",
    "        \n",
    "        # Output layer: GraphConv, Linear\n",
    "        \n",
    "        pass\n",
    "\n",
    "    def forward(self, g, in_feat):\n",
    "        \"\"\"\n",
    "        The forward pass of the model, which applies all of the layers\n",
    "        to a given graph and set of node features\n",
    "        \n",
    "        Args:\n",
    "            g (DGLGraph): the graph used for Graph Convolutions\n",
    "            in_feat (Tensor): the node features\n",
    "            \n",
    "        Returns:\n",
    "            the logits of the model as a Tensor, in which *no final activation function\n",
    "            has been applied*.\n",
    "        \"\"\"\n",
    "        # TODO \n",
    "        pass"
   ]
  },
  {
   "cell_type": "code",
   "execution_count": null,
   "metadata": {},
   "outputs": [],
   "source": [
    "model_linear_kwargs = dict(\n",
    "    # TODO: Add your parameter values\n",
    ")\n",
    "model_linear = GCNwLinear(**model_linear_kwargs).to(device)"
   ]
  },
  {
   "cell_type": "code",
   "execution_count": null,
   "metadata": {},
   "outputs": [],
   "source": [
    "# If this fails, the number of parameters in your model doesn't match mine (assuming 3 graphconv layers)\n",
    "linear_parms = 218152\n",
    "model_linear_parms = sum(p.numel() for p in model_linear.parameters() if p.requires_grad)\n",
    "assert linear_parms == model_linear_parms, \"Number of model parameters different than Leaderboard's\""
   ]
  },
  {
   "cell_type": "code",
   "execution_count": null,
   "metadata": {},
   "outputs": [],
   "source": [
    "gcn_linear_path = f\"{model_path}/gcn_linear.model\""
   ]
  },
  {
   "cell_type": "code",
   "execution_count": null,
   "metadata": {},
   "outputs": [],
   "source": [
    "train_linear_args = dict(\n",
    "    g=g, labels=labels, split_idx=split_idx, \n",
    "    epochs=500, evaluator=evaluator, device=device, \n",
    "    save_path=gcn_linear_path, lr=5e-3, es_criteria=50,\n",
    "    loss_fn=loge\n",
    ")"
   ]
  },
  {
   "cell_type": "code",
   "execution_count": null,
   "metadata": {},
   "outputs": [],
   "source": [
    "train_losses, val_losses = train(model=model_linear, verbose=True, **train_linear_args)"
   ]
  },
  {
   "cell_type": "code",
   "execution_count": null,
   "metadata": {},
   "outputs": [],
   "source": [
    "plot_losses(train_losses, val_losses, log=True)"
   ]
  },
  {
   "cell_type": "code",
   "execution_count": null,
   "metadata": {},
   "outputs": [],
   "source": [
    "_ = characterize_performance(model_linear, g, labels, split_idx, evaluator, gcn_linear_path, verbose=True)"
   ]
  },
  {
   "cell_type": "markdown",
   "metadata": {},
   "source": [
    "### Stats\n",
    "Do this for 10 iterations to get some statistics"
   ]
  },
  {
   "cell_type": "code",
   "execution_count": null,
   "metadata": {
    "scrolled": true
   },
   "outputs": [],
   "source": [
    "df_linear = get_experiment_stats(\n",
    "    model_cls=GCNwLinear, model_args=model_linear_kwargs,\n",
    "    train_args=train_linear_args, n_experiments=10\n",
    ")"
   ]
  },
  {
   "cell_type": "code",
   "execution_count": null,
   "metadata": {},
   "outputs": [],
   "source": [
    "norm_plot(\n",
    "    [\n",
    "        (test_acc_lb, test_acc_lb_var, 'Leaderboard'), \n",
    "        (df_gcn.loc['mean', 'test_acc'], df_gcn.loc['std', 'test_acc'], 'GCN'),\n",
    "        (df_loge.loc['mean', 'test_acc'], df_loge.loc['std', 'test_acc'], 'Loge Loss Func'), \n",
    "        (df_linear.loc['mean', 'test_acc'], df_linear.loc['std', 'test_acc'], 'Linear Skip'),\n",
    "    ],\n",
    "    'Test Performance'\n",
    ")"
   ]
  },
  {
   "cell_type": "code",
   "execution_count": null,
   "metadata": {},
   "outputs": [],
   "source": [
    "_, p = stats.ttest_ind_from_stats(\n",
    "    test_acc_lb, test_acc_lb_var, 10,\n",
    "    df_linear.loc['mean', 'test_acc'], df_linear.loc['std', 'test_acc'], 10,\n",
    "    equal_var=False, #alternative='two-sided',\n",
    ")\n",
    "print(f\"Mean Test Accuracy Improvement: {(df_linear.loc['mean', 'test_acc'] - test_acc_lb):.4f}\")\n",
    "print(f\"Probability that these are the same = {p*100:.0f}%\")"
   ]
  },
  {
   "cell_type": "markdown",
   "metadata": {},
   "source": [
    "### Results summary\n",
    "Although your results might be different, I achieve a mean Test performance of 0.7231 +/- 0.0031.  As of the time of writing, GCN is at position 39 on the leaderboard, but we would be placed at position 30 with these improvements.  The authors of the \"Bag of Tricks\" paper are in position 23 with mean Test performance of 0.7306."
   ]
  },
  {
   "cell_type": "markdown",
   "metadata": {},
   "source": [
    "# Extra Credit\n",
    "There are at least two paths you can take:  \n",
    "\n",
    "## More \"Bag of Tricks\" improvements\n",
    "We implemented the \"Loge\" loss function and added the \"Linear + Skip Connections\" component, but there are many other tweaks presented in the paper, some of which are already on the leaderboard and demonstrate significant gains.  Some specific ideas:\n",
    "- Implement \"Label as input\", where the training set is randomly split such that half the nodes use a one-hot-encoding of the label as an input feature and the other half use dummy values of zeros.  This is an attempt to bring the benefits of Label Propagation to GNNs\n",
    "- Implement \"Label reuse\", where instead of using dummy values for half of the training data's \"label features\", you instead use model predictions from the previous iteration (i.e., \"soft labels\")\n",
    "- Switch from GCN layers to Graph Attention Networks (GAT) and implement the tricks presented in the paper, like using the symmetric normalized adjacency matrix\n",
    "\n",
    "## Find another paper\n",
    "The Leaderboard contains a wide variety of approaches, all with linked papers and code.  Look around and choose one that's interesting.  For example, many top positions as of this writing appear to use self-Knowledge Distillation (\"self-KD\"), so this may be worth exploring."
   ]
  },
  {
   "cell_type": "code",
   "execution_count": null,
   "metadata": {},
   "outputs": [],
   "source": [
    "# TODO"
   ]
  }
 ],
 "metadata": {
  "kernelspec": {
   "display_name": "Python 3",
   "language": "python",
   "name": "python3"
  },
  "language_info": {
   "codemirror_mode": {
    "name": "ipython",
    "version": 3
   },
   "file_extension": ".py",
   "mimetype": "text/x-python",
   "name": "python",
   "nbconvert_exporter": "python",
   "pygments_lexer": "ipython3",
   "version": "3.9.6"
  }
 },
 "nbformat": 4,
 "nbformat_minor": 4
}
